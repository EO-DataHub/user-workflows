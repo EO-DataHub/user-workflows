{
 "cells": [
  {
   "cell_type": "markdown",
   "metadata": {},
   "source": [
    "# Sentinel 2 cloud free best pixel WF\n",
    "\n",
    "remove cloud and shadow from series of S2 ARD images\n",
    "then mosaic them to create a best pixel image for given time period\n",
    "\n",
    "# steps:\n",
    "\n",
    "Run a pyeodh stac search for given time period\n"
   ]
  },
  {
   "cell_type": "code",
   "execution_count": 2,
   "metadata": {},
   "outputs": [],
   "source": [
    "import pyeodh\n",
    "import xarray as xr\n",
    "\n",
    "# pyeodh.set_log_level(10)\n",
    "rc = pyeodh.Client().get_catalog_service()\n",
    "\n",
    "thetford_pnt = {\n",
    "    \"coordinates\": [\n",
    "        [\n",
    "            [0.08905898091569497, 52.69722175598818],\n",
    "            [0.08905898091569497, 52.15527412683906],\n",
    "            [0.9565339502005088, 52.15527412683906],\n",
    "            [0.9565339502005088, 52.69722175598818],\n",
    "            [0.08905898091569497, 52.69722175598818],\n",
    "        ]\n",
    "    ],\n",
    "    \"type\": \"Polygon\",\n",
    "}\n",
    "\n",
    "items = rc.search(\n",
    "    collections=[\"sentinel2_ard\"],\n",
    "    catalog_paths=[\"supported-datasets/ceda-stac-fastapi\"],\n",
    "    intersects=thetford_pnt,\n",
    "    query=[\n",
    "        \"start_datetime>=2023-04-01\",\n",
    "        \"end_datetime<=2023-06-30\",\n",
    "    ],\n",
    "    limit=10,\n",
    ")\n"
   ]
  },
  {
   "cell_type": "markdown",
   "metadata": {},
   "source": [
    "For each item open `cog`, `cloud` and `valid` .tif assets and remove the cloud like this:\n"
   ]
  },
  {
   "cell_type": "code",
   "execution_count": 3,
   "metadata": {},
   "outputs": [
    {
     "name": "stdout",
     "output_type": "stream",
     "text": [
      "neodc.sentinel_ard.data.sentinel_2.2023.06.25.S2B_20230625_latn527lonw0007_T30UXD_ORB137_20230625114918_utm30n_osgb\n",
      "https://dap.ceda.ac.uk/neodc/sentinel_ard/data/sentinel_2/2023/06/25/S2B_20230625_latn527lonw0007_T30UXD_ORB137_20230625114918_utm30n_osgb_clouds.tif\n",
      "https://dap.ceda.ac.uk/neodc/sentinel_ard/data/sentinel_2/2023/06/25/S2B_20230625_latn527lonw0007_T30UXD_ORB137_20230625114918_utm30n_osgb_valid.tif\n",
      "https://dap.ceda.ac.uk/neodc/sentinel_ard/data/sentinel_2/2023/06/25/S2B_20230625_latn527lonw0007_T30UXD_ORB137_20230625114918_utm30n_osgb_vmsk_sharp_rad_srefdem_stdsref.tif\n"
     ]
    },
    {
     "name": "stderr",
     "output_type": "stream",
     "text": [
      "Warning 3: Cannot find gdalvrt.xsd (GDAL_DATA is not defined)\n"
     ]
    },
    {
     "name": "stdout",
     "output_type": "stream",
     "text": [
      "====================\n"
     ]
    }
   ],
   "source": [
    "for item in items.get_limited()[0:1]:\n",
    "    cloud_href = item.assets[\"cloud\"].href\n",
    "    valid_href = item.assets[\"valid_pixels\"].href\n",
    "    cog_href = item.assets[\"cog\"].href\n",
    "    print(item.id, cloud_href, valid_href, cog_href, sep=\"\\n\")\n",
    "    valid = xr.open_dataset(valid_href, engine=\"rasterio\", chunks=\"auto\")\n",
    "    cloud = xr.open_dataset(cloud_href, engine=\"rasterio\", chunks=\"auto\")\n",
    "    cog = xr.open_dataset(cog_href, engine=\"rasterio\", chunks=\"auto\")\n",
    "    print(\"==\" * 10)\n",
    "\n"
   ]
  },
  {
   "cell_type": "code",
   "execution_count": 4,
   "metadata": {},
   "outputs": [],
   "source": [
    "result = valid + cloud\n"
   ]
  },
  {
   "cell_type": "code",
   "execution_count": 6,
   "metadata": {},
   "outputs": [],
   "source": [
    "# Set values greater than 1 to 0, others remain as 1\n",
    "result = xr.where(result > 1, 0, 1)\n"
   ]
  },
  {
   "cell_type": "code",
   "execution_count": 7,
   "metadata": {},
   "outputs": [],
   "source": [
    "\n",
    "# Multiply cog.tif by the result\n",
    "final_result = cog * result\n"
   ]
  }
 ],
 "metadata": {
  "kernelspec": {
   "display_name": "Python 3",
   "language": "python",
   "name": "python3"
  },
  "language_info": {
   "codemirror_mode": {
    "name": "ipython",
    "version": 3
   },
   "file_extension": ".py",
   "mimetype": "text/x-python",
   "name": "python",
   "nbconvert_exporter": "python",
   "pygments_lexer": "ipython3",
   "version": "3.12.7"
  }
 },
 "nbformat": 4,
 "nbformat_minor": 2
}
