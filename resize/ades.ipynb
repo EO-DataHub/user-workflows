{
 "cells": [
  {
   "cell_type": "code",
   "execution_count": 2,
   "metadata": {},
   "outputs": [],
   "source": [
    "import os\n",
    "\n",
    "import dotenv\n",
    "import json\n",
    "\n",
    "import pyeodh\n",
    "\n",
    "dotenv.load_dotenv()\n",
    "\n",
    "\n",
    "client = pyeodh.Client(\n",
    "    username=os.getenv(\"ADES_USER\"),\n",
    "    token=os.getenv(\"ADES_TOKEN\"),\n",
    ")\n",
    "ades = client.get_ades()"
   ]
  },
  {
   "cell_type": "code",
   "execution_count": 2,
   "metadata": {},
   "outputs": [],
   "source": [
    "cwl_yaml = r\"\"\"\n",
    "\"\"\""
   ]
  },
  {
   "cell_type": "code",
   "execution_count": 3,
   "metadata": {},
   "outputs": [],
   "source": [
    "try:\n",
    "    ades.get_process(\"resize-urls\").delete()\n",
    "except Exception:\n",
    "    print(\"Process not found, no need to undeploy.\")\n",
    "\n",
    "process = ades.deploy_process(cwl_yaml=cwl_yaml)"
   ]
  },
  {
   "cell_type": "code",
   "execution_count": 3,
   "metadata": {},
   "outputs": [],
   "source": [
    "j = ades.get_process(\"resize-urls\").execute(\n",
    "    {\n",
    "        \"urls\": [\n",
    "            \"\",\n",
    "        ],\n",
    "    }\n",
    ")"
   ]
  },
  {
   "cell_type": "code",
   "execution_count": 4,
   "metadata": {},
   "outputs": [
    {
     "data": {
      "text/plain": [
       "'https://test.eodatahub.org.uk/ades/figi44/ogc-api/jobs/19ccf730-defe-11ef-9785-12e2ea552ab2'"
      ]
     },
     "execution_count": 4,
     "metadata": {},
     "output_type": "execute_result"
    }
   ],
   "source": [
    "j.self_href"
   ]
  }
 ],
 "metadata": {
  "kernelspec": {
   "display_name": "Python 3",
   "language": "python",
   "name": "python3"
  },
  "language_info": {
   "codemirror_mode": {
    "name": "ipython",
    "version": 3
   },
   "file_extension": ".py",
   "mimetype": "text/x-python",
   "name": "python",
   "nbconvert_exporter": "python",
   "pygments_lexer": "ipython3",
   "version": "3.12.7"
  }
 },
 "nbformat": 4,
 "nbformat_minor": 2
}
